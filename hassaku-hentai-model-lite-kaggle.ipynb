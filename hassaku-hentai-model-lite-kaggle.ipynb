{
 "cells": [
  {
   "cell_type": "markdown",
   "id": "87b04f67",
   "metadata": {
    "_cell_guid": "f431ab09-133c-4139-b220-5d28a28de82c",
    "_uuid": "bb660c70-aa41-4faa-9984-491f0ea90822",
    "papermill": {
     "duration": null,
     "end_time": null,
     "exception": null,
     "start_time": null,
     "status": "pending"
    },
    "tags": []
   },
   "source": [
    "# **Stable Diffusion Webui Lite**\n",
    "\n",
    "# Note:\n",
    "\n",
    "> * This notebook might not work properly after some time because Nightly version notebooks are updated on regular basis.\n",
    "\n",
    "> * In this Nightly Version notebook the default height of inpaint is 720p which is for desktop so if you are working on Android you have to manually set the inpaint height in \"User Interface\" which is present in Setting tab, Around 300-400 pix should be fine.\n",
    "\n",
    "\n",
    "# Current Models:\n",
    "> * Hassaku \n",
    "Hentai Model v1.1 & VAE\n",
    "\n",
    "# Although you can change It any time 👻\n",
    "\n",
    "\n",
    "# **NSFW (⁠｡⁠•̀⁠ᴗ⁠-⁠)⁠✧**\n",
    "***Just make sure you are running it privately Otherwise say goodbye to your Account*** 🥲\n",
    "\n",
    "***Special thanks to [Camenduru](https://github.com/camenduru)***"
   ]
  },
  {
   "cell_type": "code",
   "execution_count": null,
   "id": "6b97c0a4",
   "metadata": {
    "papermill": {
     "duration": null,
     "end_time": null,
     "exception": null,
     "start_time": null,
     "status": "pending"
    },
    "tags": []
   },
   "outputs": [],
   "source": [
    "!python -m pip install -U pip\n",
    "!pip install --upgrade setuptools==67.7.2\n",
    "!pip install ez_setup\n",
    "import os\n",
    "%cd /kaggle\n",
    "%env TF_CPP_MIN_LOG_LEVEL=/temp\n",
    "!apt -y update -qq\n",
    "!wget http://launchpadlibrarian.net/367274644/libgoogle-perftools-dev_2.5-2.2ubuntu3_amd64.deb\n",
    "!wget https://launchpad.net/ubuntu/+source/google-perftools/2.5-2.2ubuntu3/+build/14795286/+files/google-perftools_2.5-2.2ubuntu3_all.deb\n",
    "!wget https://launchpad.net/ubuntu/+source/google-perftools/2.5-2.2ubuntu3/+build/14795286/+files/libtcmalloc-minimal4_2.5-2.2ubuntu3_amd64.deb\n",
    "!wget https://launchpad.net/ubuntu/+source/google-perftools/2.5-2.2ubuntu3/+build/14795286/+files/libgoogle-perftools4_2.5-2.2ubuntu3_amd64.deb\n",
    "!apt-get install -qq libunwind8-dev\n",
    "!dpkg -i *.deb\n",
    "%env LD_PRELOAD=libtcmalloc.so\n",
    "!rm *.deb\n",
    "!apt -y install -qq aria2 libcairo2-dev pkg-config python3-dev\n",
    "!pip install -q torch==1.13.1+cu116 torchvision==0.14.1+cu116 torchaudio==0.13.1 torchtext==0.14.1 torchdata==0.5.1 --extra-index-url https://download.pytorch.org/whl/cu116 -U\n",
    "!pip install -q xformers==0.0.16 triton==2.0.0 -U\n",
    "!pip install --upgrade tensorflow-io\n",
    "!git clone -b v2.1 https://github.com/camenduru/stable-diffusion-webui\n",
    "!git clone https://huggingface.co/embed/negative /kaggle/stable-diffusion-webui/embeddings/negative\n",
    "!git clone https://huggingface.co/embed/lora /kaggle/stable-diffusion-webui/models/Lora/positive\n",
    "!aria2c --console-log-level=error -c -x 16 -s 16 -k 1M https://huggingface.co/embed/upscale/resolve/main/4x-UltraSharp.pth -d /kaggle/stable-diffusion-webui/models/ESRGAN -o 4x-UltraSharp.pth\n",
    "!wget https://raw.githubusercontent.com/camenduru/stable-diffusion-webui-scripts/main/run_n_times.py -O /kaggle/stable-diffusion-webui/scripts/run_n_times.py\n",
    "!git clone https://github.com/DominikDoom/a1111-sd-webui-tagcomplete.git /kaggle/stable-diffusion-webui/extensions/tag-autocomplete\n",
    "!git clone -b v2.1 https://github.com/camenduru/deforum-for-automatic1111-webui /kaggle/stable-diffusion-webui/extensions/deforum-for-automatic1111-webui\n",
    "# !git clone -b v2.1 https://github.com/camenduru/stable-diffusion-webui-images-browser /kaggle/stable-diffusion-webui/extensions/stable-diffusion-webui-images-browser\n",
    "!git clone -b v2.1 https://github.com/camenduru/stable-diffusion-webui-huggingface /kaggle/stable-diffusion-webui/extensions/stable-diffusion-webui-huggingface\n",
    "!git clone -b v2.1 https://github.com/camenduru/sd-civitai-browser /kaggle/stable-diffusion-webui/extensions/sd-civitai-browser\n",
    "!git clone -b v2.1 https://github.com/camenduru/sd-webui-additional-networks /kaggle/stable-diffusion-webui/extensions/sd-webui-additional-networks\n",
    "# !git clone -b v2.1 https://github.com/camenduru/sd-webui-tunnels /kaggle/stable-diffusion-webui/extensions/sd-webui-tunnels\n",
    "# !git clone -b v2.1 https://github.com/camenduru/batchlinks-webui /kaggle/stable-diffusion-webui/extensions/batchlinks-webui\n",
    "!git clone -b v2.1 https://github.com/camenduru/stable-diffusion-webui-catppuccin /kaggle/stable-diffusion-webui/extensions/stable-diffusion-webui-catppuccin\n",
    "!git clone -b v2.1 https://github.com/camenduru/a1111-sd-webui-locon /kaggle/stable-diffusion-webui/extensions/a1111-sd-webui-locon\n",
    "!git clone -b v2.1 https://github.com/camenduru/stable-diffusion-webui-rembg /kaggle/stable-diffusion-webui/extensions/stable-diffusion-webui-rembg\n",
    "!git clone -b v2.1 https://github.com/camenduru/stable-diffusion-webui-two-shot /kaggle/stable-diffusion-webui/extensions/stable-diffusion-webui-two-shot\n",
    "!git clone -b v2.1 https://github.com/camenduru/sd-webui-aspect-ratio-helper /kaggle/stable-diffusion-webui/extensions/sd-webui-aspect-ratio-helper\n",
    "!git clone -b v2.1 https://github.com/camenduru/asymmetric-tiling-sd-webui /kaggle/stable-diffusion-webui/extensions/asymmetric-tiling-sd-webui\n",
    "%cd /kaggle/stable-diffusion-webui\n",
    "!git reset --hard\n",
    "!git -C /kaggle/stable-diffusion-webui/repositories/stable-diffusion-stability-ai reset --hard\n",
    "!aria2c --console-log-level=error -c -x 16 -s 16 -k 1M https://huggingface.co/ckpt/hassaku-hentai-model/resolve/main/hassakuHentaiModel_v11.safetensors -d /kaggle/stable-diffusion-webui/models/Stable-diffusion -o hassakuHentaiModel_v11.safetensors\n",
    "!aria2c --console-log-level=error -c -x 16 -s 16 -k 1M https://huggingface.co/ckpt/sd-vae-ft-mse-original/resolve/main/vae-ft-mse-840000-ema-pruned.ckpt -d /kaggle/stable-diffusion-webui/models/Stable-diffusion -o hassakuHentaiModel_v11.vae.pt\n",
    "!sed -i -e '''/    prepare_environment()/a\\    os.system\\(f\\\"\"\"sed -i -e ''\\\"s/dict()))/dict())).cuda()/g\\\"'' /kaggle/stable-diffusion-webui/repositories/stable-diffusion-stability-ai/ldm/util.py\"\"\")''' /kaggle/stable-diffusion-webui/launch.py\n",
    "!sed -i -e 's/\\\"sd_model_checkpoint\\\"\\,/\\\"sd_model_checkpoint\\,sd_vae\\,CLIP_stop_at_last_layers\\\"\\,/g' /kaggle/stable-diffusion-webui/modules/shared.py\n",
    "!python launch.py --share --xformers --enable-insecure-extension-access --theme dark --gradio-queue     "
   ]
  }
 ],
 "metadata": {
  "kernelspec": {
   "display_name": "Python 3",
   "language": "python",
   "name": "python3"
  },
  "language_info": {
   "codemirror_mode": {
    "name": "ipython",
    "version": 3
   },
   "file_extension": ".py",
   "mimetype": "text/x-python",
   "name": "python",
   "nbconvert_exporter": "python",
   "pygments_lexer": "ipython3",
   "version": "3.6.4"
  },
  "papermill": {
   "default_parameters": {},
   "duration": null,
   "end_time": null,
   "environment_variables": {},
   "exception": null,
   "input_path": "__notebook__.ipynb",
   "output_path": "__notebook__.ipynb",
   "parameters": {},
   "start_time": "2023-06-26T06:36:43.885352",
   "version": "2.4.0"
  }
 },
 "nbformat": 4,
 "nbformat_minor": 5
}