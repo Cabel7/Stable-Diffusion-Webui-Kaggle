{
 "cells": [
   {
      "cell_type": "markdown",
      "metadata": {
        "id": "view-in-github"
      },
      "source": [
        "[![Open In Kaggle](https://kaggle.com/static/images/open-in-kaggle.svg)](https://www.kaggle.com/code/ikaras/realistic-vision-v3-lite-kaggle)"
      ]
    },
  {
   "cell_type": "markdown",
   "id": "0b80bdd2",
   "metadata": {
    "papermill": {
     "duration": null,
     "end_time": null,
     "exception": null,
     "start_time": null,
     "status": "pending"
    },
    "tags": []
   },
   "source": [
    "# _**Stable Diffusion Webui Lite**_\n",
    "# Note:\n",
    "In this notebook the default height of inpaint might be 720p which is for desktop so if you are working on Android you have to manually set the inpaint height in \"User Interface\" which is present in Setting tab, Around 300-400 pix should be fine.\n",
    "\n",
    "# Current Models:\n",
    "> __[Realistic_Vision_V3.0](https://civitai.com/models/4201?modelVersionId=105674)__<br>\n",
    ">![tmpdxoynz23](https://github.com/Cabel7/Stable-Diffusion-Webui-Kaggle/assets/134921117/777e99e7-f82b-4246-8a7b-614d367144e2)<br>\n",
    "> __[Realistic_Vision_V3.0-Inpainting](https://civitai.com/models/4201?modelVersionId=105674)__\n",
    "\n",
    "## __**Recommend VAEs**__\n",
    "\n",
    "`The necessary VAE is already baked into the model.`\n",
    "\n",
    "## __**Recommended Configurations**__\n",
    "**Steps:** 20-25, for more composition use more than 25 <br>\n",
    "\n",
    "**CFG Scale:** 3,5 - 7<br>\n",
    "\n",
    "**Sampling method:** DPM++ SDE Karras, Euler A<br>\n",
    "\n",
    "**Resolution:** square (512x512), Portrait (512x768)<br>\n",
    "\n",
    "**Negative Prompt:** (deformed iris, deformed pupils, semi-realistic, cgi, 3d, render, sketch, cartoon, drawing, anime:1.4), text, close up, cropped, out of frame, worst quality, low quality, jpeg artifacts, ugly, duplicate, morbid, mutilated, extra fingers, mutated hands, poorly drawn hands, poorly drawn face, mutation, deformed, blurry, dehydrated, bad anatomy, bad proportions, extra limbs, cloned face, disfigured, gross proportions, malformed limbs, missing arms, missing legs, extra arms, extra legs, fused fingers, too many fingers, long neck\n",
    "\n",
    "**Or**\n",
    "\n",
    "(deformed iris, deformed pupils, semi-realistic, cgi, 3d, render, sketch, cartoon, drawing, anime, mutated hands and fingers:1.4), (deformed, distorted, disfigured:1.3), poorly drawn, bad anatomy, wrong anatomy, extra limb, missing limb, floating limbs, disconnected limbs, mutation, mutated, ugly, disgusting, amputation\n",
    "\n",
    "**Hires:** Hires fix with 4x-UltraSharp upscaler<br>\n",
    "0 Hires steps and Denoising strength 0.25-0.45<br>\n",
    "Upscale by 1.1-2.0\n",
    "\n",
    "# Note:\n",
    "1. __In case you are creating NSFW artworks then don't make the notebook public or upload any of the image to any of the directory, otherwise say goodbye to your Account__ 🥲\n",
    "2. __Don't try to load all the extension otherwise your notebook might not work, hash atleast 4-5 Extensions.__\n",
    "\n",
    "**Special thanks to _[Camenduru](https://github.com/camenduru)_**"
   ]
  },
  {
   "cell_type": "code",
   "execution_count": null,
   "id": "f356e0e2",
   "metadata": {
    "papermill": {
     "duration": null,
     "end_time": null,
     "exception": null,
     "start_time": null,
     "status": "pending"
    },
    "tags": []
   },
   "outputs": [],
   "source": [
    "!python -m pip install -U pip\n",
    "!pip install ez_setup\n",
    "!pip install --upgrade setuptools==67.7.2\n",
    "\n",
    "%cd /kaggle\n",
    "%env TF_CPP_MIN_LOG_LEVEL=/temp\n",
    "!apt -y update -qq\n",
    "!wget http://launchpadlibrarian.net/367274644/libgoogle-perftools-dev_2.5-2.2ubuntu3_amd64.deb\n",
    "!wget https://launchpad.net/ubuntu/+source/google-perftools/2.5-2.2ubuntu3/+build/14795286/+files/google-perftools_2.5-2.2ubuntu3_all.deb\n",
    "!wget https://launchpad.net/ubuntu/+source/google-perftools/2.5-2.2ubuntu3/+build/14795286/+files/libtcmalloc-minimal4_2.5-2.2ubuntu3_amd64.deb\n",
    "!wget https://launchpad.net/ubuntu/+source/google-perftools/2.5-2.2ubuntu3/+build/14795286/+files/libgoogle-perftools4_2.5-2.2ubuntu3_amd64.deb\n",
    "!apt-get install -qq libunwind8-dev\n",
    "!dpkg -i *.deb\n",
    "%env LD_PRELOAD=libtcmalloc.so\n",
    "!rm *.deb\n",
    "!apt -y install -qq aria2 libcairo2-dev pkg-config python3-dev\n",
    "!pip install -q torch==1.13.1+cu116 torchvision==0.14.1+cu116 torchaudio==0.13.1 torchtext==0.14.1 torchdata==0.5.1 --extra-index-url https://download.pytorch.org/whl/cu116 -U\n",
    "!pip install -q xformers==0.0.16 triton==2.0.0 -U\n",
    "!pip install --upgrade tensorflow-io\n",
    "!git clone -b v2.1 https://github.com/camenduru/stable-diffusion-webui\n",
    "!git clone https://huggingface.co/embed/negative /kaggle/stable-diffusion-webui/embeddings/negative\n",
    "!git clone https://huggingface.co/embed/lora /kaggle/stable-diffusion-webui/models/Lora/positive\n",
    "!aria2c --console-log-level=error -c -x 16 -s 16 -k 1M https://huggingface.co/embed/upscale/resolve/main/4x-UltraSharp.pth -d /kaggle/stable-diffusion-webui/models/ESRGAN -o 4x-UltraSharp.pth\n",
    "!wget https://raw.githubusercontent.com/camenduru/stable-diffusion-webui-scripts/main/run_n_times.py -O /kaggle/stable-diffusion-webui/scripts/run_n_times.py\n",
    "!git clone https://github.com/DominikDoom/a1111-sd-webui-tagcomplete.git /kaggle/stable-diffusion-webui/extensions/tag-autocomplete\n",
    "!git clone https://github.com/KohakuBlueleaf/a1111-sd-webui-lycoris /kaggle/stable-diffusion-webui/extensions/a1111-sd-webui-lycoris\n",
    "# !git clone -b v2.1 https://github.com/camenduru/deforum-for-automatic1111-webui /kaggle/stable-diffusion-webui/extensions/deforum-for-automatic1111-webui\n",
    "# !git clone -b v2.1 https://github.com/camenduru/stable-diffusion-webui-images-browser /kaggle/stable-diffusion-webui/extensions/stable-diffusion-webui-images-browser\n",
    "!git clone -b v2.1 https://github.com/camenduru/stable-diffusion-webui-huggingface /kaggle/stable-diffusion-webui/extensions/stable-diffusion-webui-huggingface\n",
    "!git clone -b v2.1 https://github.com/camenduru/sd-civitai-browser /kaggle/stable-diffusion-webui/extensions/sd-civitai-browser\n",
    "!git clone -b v2.1 https://github.com/camenduru/sd-webui-additional-networks /kaggle/stable-diffusion-webui/extensions/sd-webui-additional-networks\n",
    "# !git clone -b v2.1 https://github.com/camenduru/sd-webui-tunnels /kaggle/stable-diffusion-webui/extensions/sd-webui-tunnels\n",
    "# !git clone -b v2.1 https://github.com/camenduru/batchlinks-webui /kaggle/stable-diffusion-webui/extensions/batchlinks-webui\n",
    "# !git clone -b v2.1 https://github.com/camenduru/stable-diffusion-webui-catppuccin /kaggle/stable-diffusion-webui/extensions/stable-diffusion-webui-catppuccin\n",
    "# !git clone -b v2.1 https://github.com/camenduru/a1111-sd-webui-locon /kaggle/stable-diffusion-webui/extensions/a1111-sd-webui-locon\n",
    "!git clone -b v2.1 https://github.com/camenduru/stable-diffusion-webui-rembg /kaggle/stable-diffusion-webui/extensions/stable-diffusion-webui-rembg\n",
    "!git clone -b v2.1 https://github.com/camenduru/stable-diffusion-webui-two-shot /kaggle/stable-diffusion-webui/extensions/stable-diffusion-webui-two-shot\n",
    "!git clone -b v2.1 https://github.com/camenduru/sd-webui-aspect-ratio-helper /kaggle/stable-diffusion-webui/extensions/sd-webui-aspect-ratio-helper\n",
    "!git clone -b v2.1 https://github.com/camenduru/asymmetric-tiling-sd-webui /kaggle/stable-diffusion-webui/extensions/asymmetric-tiling-sd-webui\n",
    "%cd /kaggle/stable-diffusion-webui\n",
    "!git reset --hard\n",
    "!git -C /kaggle/stable-diffusion-webui/repositories/stable-diffusion-stability-ai reset --hard\n",
    "\n",
    "# Models \n",
    "!aria2c --console-log-level=error -c -x 16 -s 16 -k 1M https://huggingface.co/SG161222/Realistic_Vision_V3.0_VAE/resolve/main/Realistic_Vision_V3.0.safetensors -d /kaggle/stable-diffusion-webui/models/Stable-diffusion -o Realistic_Vision_V30.safetensors\n",
    "!aria2c --console-log-level=error -c -x 16 -s 16 -k 1M https://huggingface.co/SG161222/Realistic_Vision_V3.0_VAE/resolve/main/Realistic_Vision_V3.0-inpainting.safetensors -d /kaggle/stable-diffusion-webui/models/Stable-diffusion -o Realistic_Vision_V30_inpainting.safetensors\n",
    "\n",
    "!sed -i -e '''/    prepare_environment()/a\\    os.system\\(f\\\"\"\"sed -i -e ''\\\"s/dict()))/dict())).cuda()/g\\\"'' /kaggle/stable-diffusion-webui/repositories/stable-diffusion-stability-ai/ldm/util.py\"\"\")''' /kaggle/stable-diffusion-webui/launch.py\n",
    "!sed -i -e 's/\\\"sd_model_checkpoint\\\"\\,/\\\"sd_model_checkpoint\\,sd_vae\\,CLIP_stop_at_last_layers\\\"\\,/g' /kaggle/stable-diffusion-webui/modules/shared.py\n",
    "!python launch.py --share --xformers --enable-insecure-extension-access --theme dark --gradio-queue     "
   ]
  }
 ],
 "metadata": {
  "kernelspec": {
   "display_name": "Python 3",
   "language": "python",
   "name": "python3"
  },
  "language_info": {
   "codemirror_mode": {
    "name": "ipython",
    "version": 3
   },
   "file_extension": ".py",
   "mimetype": "text/x-python",
   "name": "python",
   "nbconvert_exporter": "python",
   "pygments_lexer": "ipython3",
   "version": "3.6.4"
  },
  "papermill": {
   "default_parameters": {},
   "duration": null,
   "end_time": null,
   "environment_variables": {},
   "exception": null,
   "input_path": "__notebook__.ipynb",
   "output_path": "__notebook__.ipynb",
   "parameters": {},
   "start_time": "2023-07-04T09:17:47.467898",
   "version": "2.4.0"
  }
 },
 "nbformat": 4,
 "nbformat_minor": 5
}
